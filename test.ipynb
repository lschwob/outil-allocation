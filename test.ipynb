{
 "cells": [
  {
   "cell_type": "code",
   "execution_count": 4,
   "metadata": {},
   "outputs": [
    {
     "name": "stdout",
     "output_type": "stream",
     "text": [
      "\n",
      "Caching the list of root modules, please wait!\n",
      "(This will only be done once - type '%rehashx' to reset cache!)\n",
      "\n"
     ]
    },
    {
     "name": "stderr",
     "output_type": "stream",
     "text": [
      "g:\\Programmes\\Anaconda3\\envs\\arcanum\\Lib\\site-packages\\IPython\\core\\completerlib.py:149: UserWarning: using rootmodules_cache requires you to install the `pickleshare` library.\n",
      "  ip.db['rootmodules_cache'] = rootmodules_cache\n"
     ]
    }
   ],
   "source": [
    "import streamlit as st\n",
    "from streamlit_gsheets import GSheetsConnection\n",
    "import os\n",
    "import requests"
   ]
  },
  {
   "cell_type": "code",
   "execution_count": 3,
   "metadata": {},
   "outputs": [],
   "source": [
    "conn = st.connection(\"gsheets\", type=GSheetsConnection)\n",
    "\n",
    "col = 5\n",
    "skip_rows = 7\n",
    "\n",
    "df = conn.read(\n",
    "    worksheet=\"Arbitrage\",\n",
    "    ttl=\"10m\",\n",
    "    usecols=[col],\n",
    "    skiprows = skip_rows\n",
    ")\n"
   ]
  },
  {
   "cell_type": "code",
   "execution_count": null,
   "metadata": {},
   "outputs": [],
   "source": [
    "response = requests.get()"
   ]
  }
 ],
 "metadata": {
  "kernelspec": {
   "display_name": "arcanum",
   "language": "python",
   "name": "python3"
  },
  "language_info": {
   "codemirror_mode": {
    "name": "ipython",
    "version": 3
   },
   "file_extension": ".py",
   "mimetype": "text/x-python",
   "name": "python",
   "nbconvert_exporter": "python",
   "pygments_lexer": "ipython3",
   "version": "3.11.8"
  }
 },
 "nbformat": 4,
 "nbformat_minor": 2
}
