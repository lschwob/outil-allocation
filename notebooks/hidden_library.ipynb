{
 "cells": [
  {
   "cell_type": "code",
   "execution_count": 46,
   "metadata": {},
   "outputs": [],
   "source": [
    "import pandas as pd\n",
    "import numpy as np\n",
    "\n",
    "import selenium\n",
    "from selenium import webdriver\n",
    "from selenium.webdriver.common.keys import Keys\n",
    "from selenium.webdriver.common.by import By\n",
    "from selenium.webdriver.chrome.options import Options\n",
    "from selenium.webdriver.support.ui import WebDriverWait\n",
    "from selenium.webdriver.support import expected_conditions as EC\n",
    "from selenium.webdriver.common.alert import Alert\n",
    "\n",
    "\n",
    "import time\n",
    "import os\n",
    "\n",
    "from tqdm import tqdm\n",
    "import requests"
   ]
  },
  {
   "cell_type": "code",
   "execution_count": 47,
   "metadata": {},
   "outputs": [],
   "source": [
    "def requirements(dic_file, progress):\n",
    "    if not os.path.exists('../data/morningstar'):\n",
    "        os.makedirs('../data/morningstar')\n",
    "        \n",
    "    dic_cat = pd.read_csv(dic_file)\n",
    "        \n",
    "    if \"Morningstar\" not in dic_cat.columns:\n",
    "        dic_cat['Morningstar'] = 'Not Found'\n",
    "        \n",
    "    #Dic cat from the last isin in progress to the end\n",
    "    with open(progress, 'r') as f:\n",
    "        #Last line in progress\n",
    "        last_isin = f.readlines()[-1].split(':')[0].strip()\n",
    "        \n",
    "\n",
    "    progress = dic_cat[dic_cat['CODE ISIN'] == last_isin].index[0]\n",
    "    dic_cat = dic_cat.iloc[progress:]\n",
    "    \n",
    "    return dic_cat"
   ]
  },
  {
   "cell_type": "code",
   "execution_count": 48,
   "metadata": {},
   "outputs": [],
   "source": [
    "def login(mail):\n",
    "    \n",
    "    driver = webdriver.Chrome()\n",
    "    url = \"https://doc.morningstar.com/Fund.aspx?u=ALL#\"\n",
    "    driver.get(url)\n",
    "    \n",
    "    Alert(driver).accept()\n",
    "    \n",
    "    login = driver.find_element(By.XPATH, '/html/body/div[10]/div[3]/div[1]/div[2]/div/div/form/input')\n",
    "    login.click()\n",
    "    \n",
    "    mail_input = driver.find_element(By.XPATH, '/html/body/div/ctrsi-signin-component/div/div/div[2]/main/section/div/div[2]/div/div/form/label[1]/input')\n",
    "    mail_input.send_keys(mail)\n",
    "    \n",
    "    password = driver.find_element(By.XPATH, '/html/body/div/ctrsi-signin-component/div/div/div[2]/main/section/div/div[2]/div/div/form/label[2]/div[2]/input')\n",
    "    password.send_keys(mail)\n",
    "    \n",
    "    sign = driver.find_element(By.XPATH, '/html/body/div/ctrsi-signin-component/div/div/div[2]/main/section/div/div[2]/div/div/form/div/button[2]/span')\n",
    "    sign.click()\n",
    "    \n",
    "    nav = WebDriverWait(driver, 10).until(EC.presence_of_element_located((By.XPATH, '/html/body/div[10]/ul/li[3]/div/table/tbody/tr/td[1]')))\n",
    "    nav.click()\n",
    "    \n",
    "    driver.get('https://doc.morningstar.com/Fund.aspx?u=ALL')\n",
    "    return driver"
   ]
  },
  {
   "cell_type": "code",
   "execution_count": 52,
   "metadata": {},
   "outputs": [],
   "source": [
    "def download_classic(driver, link, isin):\n",
    "    headers = {\n",
    "        \"User-Agent\":\n",
    "            \"Mozilla/5.0 (Windows NT 6.3; WOW64) AppleWebKit/537.36 (KHTML, like Gecko) Chrome/44.0.2403.157 Safari/537.36\"\n",
    "        }\n",
    "    s = requests.session()\n",
    "    s.headers.update(headers)\n",
    "\n",
    "    for cookie in driver.get_cookies():\n",
    "        c = {cookie['name']: cookie['value']}\n",
    "        s.cookies.update(c)\n",
    "    \n",
    "    response = s.get(link)\n",
    "    if response.status_code == 200:\n",
    "        with open(f\"../data/morningstar/{isin}.pdf\", 'wb') as f:\n",
    "            f.write(response.content)\n",
    "            \n",
    "    return None\n",
    "        \n",
    "        \n",
    "def download_from_progress(progress):\n",
    "    driver = login(\"piron85023@lucvu.com\")\n",
    "    \n",
    "    downloaded = os.listdir('../data/morningstar')\n",
    "    \n",
    "    with open(progress, 'r') as f:\n",
    "        lines = f.readlines()\n",
    "        for line in tqdm(lines, desc=\"Downloading...\"):\n",
    "            isin, link = line.split(':', 1)\n",
    "            isin = isin.strip()\n",
    "            link = link.strip()\n",
    "            if (f\"{isin}.pdf\" not in downloaded) and (link != \"Not Found\"):\n",
    "                # response = driver.request(\"GET\", link)\n",
    "                headers = {\n",
    "                    \"User-Agent\":\n",
    "                        \"Mozilla/5.0 (Windows NT 6.3; WOW64) AppleWebKit/537.36 (KHTML, like Gecko) Chrome/44.0.2403.157 Safari/537.36\"\n",
    "                    }\n",
    "                s = requests.session()\n",
    "                s.headers.update(headers)\n",
    "\n",
    "                for cookie in driver.get_cookies():\n",
    "                    c = {cookie['name']: cookie['value']}\n",
    "                    s.cookies.update(c)\n",
    "                \n",
    "                response = s.get(link)\n",
    "                if response.status_code == 200:\n",
    "                    with open(f\"../data/morningstar/{isin}.pdf\", 'wb') as f:\n",
    "                        f.write(response.content)\n",
    "    return driver"
   ]
  },
  {
   "cell_type": "code",
   "execution_count": 50,
   "metadata": {},
   "outputs": [],
   "source": [
    "def scrap(mail, dic_file, progress):\n",
    "    \n",
    "    dic_cat = requirements(dic_file, progress)\n",
    "    \n",
    "    driver = login(mail)\n",
    "    \n",
    "    for row in tqdm(dic_cat.iterrows(), total=dic_cat.shape[0], desc=\"Scraping...\"):\n",
    "        \n",
    "        isin = row[1][\"CODE ISIN\"]\n",
    "        input = driver.find_element(By.XPATH, '//*[@id=\"SearchInput\"]')\n",
    "        input.clear()    \n",
    "        input.send_keys(isin + Keys.RETURN)\n",
    "    \n",
    "        \n",
    "        tr_elements = driver.find_elements(By.XPATH, '/html/body/div[10]/div[3]/div[3]/table/tbody[2]/tr')\n",
    "                \n",
    "        if len(tr_elements) > 0:\n",
    "            for tr in tr_elements:\n",
    "                if (\"KID\" in tr.text) and (\"Français\" in tr.text):\n",
    "                    # print(tr.find_element(By.XPATH, 'td[5]/a[2]').get_attribute(\"href\"))\n",
    "                    link = tr.find_element(By.XPATH, 'td[5]/a[2]').get_attribute(\"href\")\n",
    "                    # response = requests.get(link)\n",
    "                    # if response.status_code == 200:\n",
    "                    #     with open(f\"../data/morningstar/{isin}.pdf\", 'wb') as f:\n",
    "                    #         f.write(response.content)\n",
    "                    dic_cat.loc[row[0], \"Morningstar\"] = link\n",
    "                    # download_classic(driver, link, isin)\n",
    "                    break\n",
    "                else:\n",
    "                    dic_cat.loc[row[0], \"Morningstar\"] = \"Not Found\"\n",
    "            \n",
    "        with open('progress.txt', 'a') as f :\n",
    "            f.write(f\"{row[1]['CODE ISIN']} : {dic_cat.loc[row[0], 'Morningstar']}\\n\")\n",
    "            \n",
    "    return driver "
   ]
  },
  {
   "cell_type": "code",
   "execution_count": 51,
   "metadata": {},
   "outputs": [
    {
     "name": "stderr",
     "output_type": "stream",
     "text": [
      "Scraping...: 100%|██████████| 3671/3671 [1:25:10<00:00,  1.39s/it]  \n"
     ]
    }
   ],
   "source": [
    "driver = scrap(\"piron85023@lucvu.com\", './dic_cat.csv', 'progress.txt')"
   ]
  },
  {
   "cell_type": "code",
   "execution_count": 53,
   "metadata": {},
   "outputs": [
    {
     "name": "stderr",
     "output_type": "stream",
     "text": [
      "Downloading...: 100%|██████████| 6000/6000 [46:19<00:00,  2.16it/s]  \n"
     ]
    },
    {
     "data": {
      "text/plain": [
       "<selenium.webdriver.chrome.webdriver.WebDriver (session=\"bc3bb79d1104aaaeca8a570fe7e82f57\")>"
      ]
     },
     "execution_count": 53,
     "metadata": {},
     "output_type": "execute_result"
    }
   ],
   "source": [
    "download_from_progress('progress.txt')"
   ]
  },
  {
   "cell_type": "code",
   "execution_count": 6,
   "metadata": {},
   "outputs": [],
   "source": [
    "def check_availability(isin):\n",
    "    downloaded = os.listdir('../data/morningstar')\n",
    "    not_available = []\n",
    "    if f\"{isin}.pdf\" in downloaded:\n",
    "        return True\n",
    "    return False"
   ]
  },
  {
   "cell_type": "code",
   "execution_count": null,
   "metadata": {},
   "outputs": [],
   "source": []
  }
 ],
 "metadata": {
  "kernelspec": {
   "display_name": "arcanum",
   "language": "python",
   "name": "python3"
  },
  "language_info": {
   "codemirror_mode": {
    "name": "ipython",
    "version": 3
   },
   "file_extension": ".py",
   "mimetype": "text/x-python",
   "name": "python",
   "nbconvert_exporter": "python",
   "pygments_lexer": "ipython3",
   "version": "3.11.8"
  }
 },
 "nbformat": 4,
 "nbformat_minor": 2
}
